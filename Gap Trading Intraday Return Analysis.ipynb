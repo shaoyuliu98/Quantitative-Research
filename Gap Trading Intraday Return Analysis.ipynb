{
 "cells": [
  {
   "cell_type": "code",
   "execution_count": 1,
   "id": "8b43e58e-4b21-4bcc-b726-ee6c8e1d36c5",
   "metadata": {},
   "outputs": [],
   "source": [
    "import pandas as pd\n",
    "import numpy as np"
   ]
  },
  {
   "cell_type": "markdown",
   "id": "6b20fe25-4938-411c-a4c5-054d9842c754",
   "metadata": {},
   "source": [
    "## Open Gap Signal Trading\n",
    "\n",
    "### Introduction\n",
    "\n",
    "**The idea of this strategy is to chase the momentum in a financial market where information dissipates not all at once.**\n",
    "For example, after a strong earnings report, a single stock can open at a very high level on the next trading day compared to the closing price from the previous trading day. We observe that this uptick continues throughout the next trading day. Therefore, there are opportunities for traders to take advantage of.\n",
    "\n",
    "In this project, our trading universe is 100 stocks from S&P 100 index (excluding META due to data quality issues), between 2010-01-04 and 2022-12-30.\n",
    "\n",
    "Further research are performed on **optimal lookback window, optimal holding period, optimal portfolio construction, max profit/loss threshold, inverse signals**, etc. "
   ]
  },
  {
   "cell_type": "markdown",
   "id": "735d73f2-01a6-4686-abc2-727c56c568b3",
   "metadata": {},
   "source": [
    "### Methodology\n",
    "**Formally, the strategy generates a buy signal for a single stock when the gap between open price at trading day t and close price at trading day t-1 is considered significant over a fixed period of look back window.** A mathematical explanation of a gap being \"significant\" is as follows,<br><br>\n",
    "\n",
    "*Consider a fixed-length look back window $W$=50 trading days. The open gap $gap_{t,i}$ for stock $i$ is defined as<br><br>\n",
    "$$\n",
    "gap_{t,i} = S_{open,t,i} - S_{Close,t-1,i},\n",
    "$$<br>\n",
    "where $S_{open,t,i}$ is the open price of stock $i$ at trading day t, and $S_{Close,t-1,i}$ is the close price of stock $i$ at trading day t-1.<br><br>\n",
    "For stock $i$, we obtain a time series $G_{i}$ = {$gap_{s-49,i}$, $gap_{s-48,i}$, $gap_{s-47,i}$,..., $gap_{s,i}$}, where $s$ corresponds to the last trading day in the look back window $W$.\n",
    "For a significance level of 90%, $gap_{s,i}$ is considered significant if and only if $gap_{s,i}$ is at least in the 90th-percentile of $G_{i}$. Under this case, our strategy will generate a buy signal for stock $i$ on trading day $s$ at open. Since $gap_{s,i}$ is available information on trading day $s$ as soon as market opens, this strategy does not have look ahead bias.*<br>"
   ]
  },
  {
   "cell_type": "markdown",
   "id": "b151e7f4-d9cd-4e62-9477-0ed3f66ba0b8",
   "metadata": {},
   "source": [
    "### Signal Generation"
   ]
  },
  {
   "cell_type": "code",
   "execution_count": 5,
   "id": "e9616348-1d29-463e-affc-e085a3c4677d",
   "metadata": {},
   "outputs": [],
   "source": [
    "signals = pd.read_csv('./signals/Open Gap Signals/SP 100/sp100_signal_100rolling_90lvl.csv')"
   ]
  },
  {
   "cell_type": "code",
   "execution_count": 6,
   "id": "5449c4b3-292f-4c1f-8451-2c4c8a4c2a7b",
   "metadata": {},
   "outputs": [
    {
     "data": {
      "text/html": [
       "<div>\n",
       "<style scoped>\n",
       "    .dataframe tbody tr th:only-of-type {\n",
       "        vertical-align: middle;\n",
       "    }\n",
       "\n",
       "    .dataframe tbody tr th {\n",
       "        vertical-align: top;\n",
       "    }\n",
       "\n",
       "    .dataframe thead th {\n",
       "        text-align: right;\n",
       "    }\n",
       "</style>\n",
       "<table border=\"1\" class=\"dataframe\">\n",
       "  <thead>\n",
       "    <tr style=\"text-align: right;\">\n",
       "      <th></th>\n",
       "      <th>Date</th>\n",
       "      <th>AAPL</th>\n",
       "      <th>ABBV</th>\n",
       "      <th>ABT</th>\n",
       "      <th>ACN</th>\n",
       "      <th>ADBE</th>\n",
       "      <th>AIG</th>\n",
       "      <th>AMD</th>\n",
       "      <th>AMGN</th>\n",
       "      <th>AMT</th>\n",
       "      <th>...</th>\n",
       "      <th>UNH</th>\n",
       "      <th>UNP</th>\n",
       "      <th>UPS</th>\n",
       "      <th>USB</th>\n",
       "      <th>V</th>\n",
       "      <th>VZ</th>\n",
       "      <th>WBA</th>\n",
       "      <th>WFC</th>\n",
       "      <th>WMT</th>\n",
       "      <th>XOM</th>\n",
       "    </tr>\n",
       "  </thead>\n",
       "  <tbody>\n",
       "    <tr>\n",
       "      <th>0</th>\n",
       "      <td>2010-05-27</td>\n",
       "      <td>1.0</td>\n",
       "      <td>0.0</td>\n",
       "      <td>1.0</td>\n",
       "      <td>1.0</td>\n",
       "      <td>1.0</td>\n",
       "      <td>1.0</td>\n",
       "      <td>1.0</td>\n",
       "      <td>1.0</td>\n",
       "      <td>1.0</td>\n",
       "      <td>...</td>\n",
       "      <td>1.0</td>\n",
       "      <td>0.0</td>\n",
       "      <td>1.0</td>\n",
       "      <td>0.0</td>\n",
       "      <td>1.0</td>\n",
       "      <td>1.0</td>\n",
       "      <td>0.0</td>\n",
       "      <td>1.0</td>\n",
       "      <td>1.0</td>\n",
       "      <td>1.0</td>\n",
       "    </tr>\n",
       "    <tr>\n",
       "      <th>1</th>\n",
       "      <td>2010-05-28</td>\n",
       "      <td>1.0</td>\n",
       "      <td>0.0</td>\n",
       "      <td>0.0</td>\n",
       "      <td>0.0</td>\n",
       "      <td>0.0</td>\n",
       "      <td>0.0</td>\n",
       "      <td>0.0</td>\n",
       "      <td>1.0</td>\n",
       "      <td>0.0</td>\n",
       "      <td>...</td>\n",
       "      <td>0.0</td>\n",
       "      <td>0.0</td>\n",
       "      <td>0.0</td>\n",
       "      <td>0.0</td>\n",
       "      <td>0.0</td>\n",
       "      <td>0.0</td>\n",
       "      <td>0.0</td>\n",
       "      <td>0.0</td>\n",
       "      <td>0.0</td>\n",
       "      <td>0.0</td>\n",
       "    </tr>\n",
       "    <tr>\n",
       "      <th>2</th>\n",
       "      <td>2010-06-01</td>\n",
       "      <td>0.0</td>\n",
       "      <td>0.0</td>\n",
       "      <td>0.0</td>\n",
       "      <td>0.0</td>\n",
       "      <td>0.0</td>\n",
       "      <td>0.0</td>\n",
       "      <td>0.0</td>\n",
       "      <td>0.0</td>\n",
       "      <td>0.0</td>\n",
       "      <td>...</td>\n",
       "      <td>0.0</td>\n",
       "      <td>0.0</td>\n",
       "      <td>0.0</td>\n",
       "      <td>0.0</td>\n",
       "      <td>0.0</td>\n",
       "      <td>0.0</td>\n",
       "      <td>0.0</td>\n",
       "      <td>0.0</td>\n",
       "      <td>1.0</td>\n",
       "      <td>0.0</td>\n",
       "    </tr>\n",
       "    <tr>\n",
       "      <th>3</th>\n",
       "      <td>2010-06-02</td>\n",
       "      <td>1.0</td>\n",
       "      <td>0.0</td>\n",
       "      <td>0.0</td>\n",
       "      <td>0.0</td>\n",
       "      <td>0.0</td>\n",
       "      <td>0.0</td>\n",
       "      <td>0.0</td>\n",
       "      <td>1.0</td>\n",
       "      <td>0.0</td>\n",
       "      <td>...</td>\n",
       "      <td>0.0</td>\n",
       "      <td>0.0</td>\n",
       "      <td>0.0</td>\n",
       "      <td>0.0</td>\n",
       "      <td>0.0</td>\n",
       "      <td>0.0</td>\n",
       "      <td>0.0</td>\n",
       "      <td>1.0</td>\n",
       "      <td>1.0</td>\n",
       "      <td>0.0</td>\n",
       "    </tr>\n",
       "    <tr>\n",
       "      <th>4</th>\n",
       "      <td>2010-06-03</td>\n",
       "      <td>0.0</td>\n",
       "      <td>0.0</td>\n",
       "      <td>0.0</td>\n",
       "      <td>0.0</td>\n",
       "      <td>0.0</td>\n",
       "      <td>0.0</td>\n",
       "      <td>0.0</td>\n",
       "      <td>0.0</td>\n",
       "      <td>0.0</td>\n",
       "      <td>...</td>\n",
       "      <td>0.0</td>\n",
       "      <td>0.0</td>\n",
       "      <td>0.0</td>\n",
       "      <td>0.0</td>\n",
       "      <td>0.0</td>\n",
       "      <td>0.0</td>\n",
       "      <td>0.0</td>\n",
       "      <td>0.0</td>\n",
       "      <td>0.0</td>\n",
       "      <td>1.0</td>\n",
       "    </tr>\n",
       "  </tbody>\n",
       "</table>\n",
       "<p>5 rows × 101 columns</p>\n",
       "</div>"
      ],
      "text/plain": [
       "         Date  AAPL  ABBV  ABT  ACN  ADBE  AIG  AMD  AMGN  AMT  ...  UNH  UNP  \\\n",
       "0  2010-05-27   1.0   0.0  1.0  1.0   1.0  1.0  1.0   1.0  1.0  ...  1.0  0.0   \n",
       "1  2010-05-28   1.0   0.0  0.0  0.0   0.0  0.0  0.0   1.0  0.0  ...  0.0  0.0   \n",
       "2  2010-06-01   0.0   0.0  0.0  0.0   0.0  0.0  0.0   0.0  0.0  ...  0.0  0.0   \n",
       "3  2010-06-02   1.0   0.0  0.0  0.0   0.0  0.0  0.0   1.0  0.0  ...  0.0  0.0   \n",
       "4  2010-06-03   0.0   0.0  0.0  0.0   0.0  0.0  0.0   0.0  0.0  ...  0.0  0.0   \n",
       "\n",
       "   UPS  USB    V   VZ  WBA  WFC  WMT  XOM  \n",
       "0  1.0  0.0  1.0  1.0  0.0  1.0  1.0  1.0  \n",
       "1  0.0  0.0  0.0  0.0  0.0  0.0  0.0  0.0  \n",
       "2  0.0  0.0  0.0  0.0  0.0  0.0  1.0  0.0  \n",
       "3  0.0  0.0  0.0  0.0  0.0  1.0  1.0  0.0  \n",
       "4  0.0  0.0  0.0  0.0  0.0  0.0  0.0  1.0  \n",
       "\n",
       "[5 rows x 101 columns]"
      ]
     },
     "execution_count": 6,
     "metadata": {},
     "output_type": "execute_result"
    }
   ],
   "source": [
    "selected = [i for i in signals.columns if i!='META']\n",
    "signals = signals[selected]\n",
    "\n",
    "signals.head()"
   ]
  },
  {
   "cell_type": "code",
   "execution_count": null,
   "id": "39d27252-27e2-4bed-8b8f-7a5998a2c65c",
   "metadata": {},
   "outputs": [],
   "source": [
    "# WIP \n",
    "# number of trades every month/year\n",
    "# avg time of break between trades"
   ]
  },
  {
   "cell_type": "code",
   "execution_count": null,
   "id": "2308db1e-7021-43e2-9aa7-dc4bf0db904a",
   "metadata": {},
   "outputs": [],
   "source": []
  },
  {
   "cell_type": "code",
   "execution_count": null,
   "id": "39f9c6e6-daeb-4cd0-8936-51d3bdf13b18",
   "metadata": {},
   "outputs": [],
   "source": []
  },
  {
   "cell_type": "code",
   "execution_count": null,
   "id": "890af1b0-5aec-46ec-8d62-d38bea5306bc",
   "metadata": {},
   "outputs": [],
   "source": []
  },
  {
   "cell_type": "code",
   "execution_count": null,
   "id": "53c5abdd-2b1f-4d62-8334-2deccdc411fa",
   "metadata": {},
   "outputs": [],
   "source": []
  },
  {
   "cell_type": "code",
   "execution_count": null,
   "id": "d9a14f15-c318-4f63-8099-881601d6afb1",
   "metadata": {},
   "outputs": [],
   "source": []
  },
  {
   "cell_type": "code",
   "execution_count": null,
   "id": "de2b55d1-80f9-4641-86d0-da258e148cd4",
   "metadata": {},
   "outputs": [],
   "source": []
  },
  {
   "cell_type": "code",
   "execution_count": null,
   "id": "5a85ffa5-6096-4367-abf2-f3ac0f3f114a",
   "metadata": {},
   "outputs": [],
   "source": []
  },
  {
   "cell_type": "code",
   "execution_count": null,
   "id": "5f3a89d6-e801-48ee-9963-0ef90640a425",
   "metadata": {},
   "outputs": [],
   "source": []
  },
  {
   "cell_type": "code",
   "execution_count": null,
   "id": "99866db2-1761-4141-898f-39ac4b20d9ac",
   "metadata": {},
   "outputs": [],
   "source": [
    "strat_pnl_summary = strat_pnl.groupby(['year','Time']).describe().droplevel(0,axis=1)[['mean','std','min','max']].unstack()"
   ]
  },
  {
   "cell_type": "code",
   "execution_count": null,
   "id": "24485f91-f387-4dea-9993-7fd3ba8a552a",
   "metadata": {},
   "outputs": [],
   "source": [
    "strat_pnl_summary['mean'].T.plot().legend(bbox_to_anchor=(1, 1))"
   ]
  },
  {
   "cell_type": "code",
   "execution_count": null,
   "id": "383892a4-021f-4bbd-ae33-67d21b52fb09",
   "metadata": {},
   "outputs": [],
   "source": [
    "strat_pnl_summary['std'].T.plot().legend(bbox_to_anchor=(1, 1))"
   ]
  },
  {
   "cell_type": "code",
   "execution_count": null,
   "id": "e4bb619b-48aa-45ae-9424-edb0f1e2f96e",
   "metadata": {},
   "outputs": [],
   "source": [
    "(strat_pnl_summary['mean']/strat_pnl_summary['std']).T.plot().legend(bbox_to_anchor=(1, 1))"
   ]
  },
  {
   "cell_type": "code",
   "execution_count": null,
   "id": "5d98435f-a395-4b78-8135-dbc233efe055",
   "metadata": {},
   "outputs": [],
   "source": [
    "strat_pnl.groupby(['year','Time'])['Open_to_Date_Return'].count().groupby('year').mean().round()"
   ]
  },
  {
   "cell_type": "code",
   "execution_count": null,
   "id": "923c9cc6-6390-4a3a-a713-24491935215d",
   "metadata": {},
   "outputs": [],
   "source": [
    "strat_pnl.groupby(['Day','Time'])['Open_to_Date_Return'].mean().unstack()['15:45'].plot()"
   ]
  },
  {
   "cell_type": "code",
   "execution_count": null,
   "id": "15793f44-897d-43d2-bd89-798f08f083f6",
   "metadata": {},
   "outputs": [],
   "source": [
    "for i in ['09:30', '09:45', '10:00', '10:15', '10:30', '10:45', '11:00', '11:15','11:30', '11:45', '12:00', '12:15', '12:30', '12:45', '13:00', '13:15',\n",
    "       '13:30', '13:45', '14:00', '14:15', '14:30', '14:45', '15:00', '15:15','15:30', '15:45']:\n",
    "    print(i,sum(strat_pnl.groupby(['Day','Time'])['Open_to_Date_Return'].mean().unstack()[i]>0)/len(strat_pnl.groupby(['Day','Time'])['Open_to_Date_Return'].mean().unstack()[i]))"
   ]
  }
 ],
 "metadata": {
  "kernelspec": {
   "display_name": "Python 3 (ipykernel)",
   "language": "python",
   "name": "python3"
  },
  "language_info": {
   "codemirror_mode": {
    "name": "ipython",
    "version": 3
   },
   "file_extension": ".py",
   "mimetype": "text/x-python",
   "name": "python",
   "nbconvert_exporter": "python",
   "pygments_lexer": "ipython3",
   "version": "3.10.9"
  }
 },
 "nbformat": 4,
 "nbformat_minor": 5
}
