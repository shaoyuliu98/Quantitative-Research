{
 "cells": [
  {
   "cell_type": "code",
   "execution_count": 1,
   "id": "376db929-2a94-4e42-92ed-0d0050fe7c37",
   "metadata": {},
   "outputs": [],
   "source": [
    "import pandas as pd\n",
    "import yfinance as yf\n",
    "import pytz\n",
    "from datetime import datetime"
   ]
  },
  {
   "cell_type": "code",
   "execution_count": 2,
   "id": "e67c75bc-6bc7-44d2-8e33-8cfc528c302c",
   "metadata": {},
   "outputs": [],
   "source": [
    "tz = pytz.timezone('America/New_York')\n",
    "\n",
    "start_dt = tz.localize(datetime(2010,1,1))\n",
    "end_dt = tz.localize(datetime(2023,1,1))"
   ]
  },
  {
   "cell_type": "code",
   "execution_count": 3,
   "id": "dc50bd28-e057-49bb-aebb-5b3af181af0e",
   "metadata": {},
   "outputs": [],
   "source": [
    "ticker = pd.read_csv('Tickers.csv')"
   ]
  },
  {
   "cell_type": "code",
   "execution_count": 4,
   "id": "63e79320-a356-4455-9d55-10972dd1df41",
   "metadata": {},
   "outputs": [
    {
     "name": "stdout",
     "output_type": "stream",
     "text": [
      "[*********************100%***********************]  1 of 1 completed\n",
      "AAPL\n",
      "[*********************100%***********************]  1 of 1 completed\n",
      "ABBV\n",
      "[*********************100%***********************]  1 of 1 completed\n",
      "ABT\n",
      "[*********************100%***********************]  1 of 1 completed\n",
      "AMD\n",
      "[*********************100%***********************]  1 of 1 completed\n",
      "AMZN\n",
      "[*********************100%***********************]  1 of 1 completed\n",
      "BAC\n",
      "[*********************100%***********************]  1 of 1 completed\n",
      "BMY\n",
      "[*********************100%***********************]  1 of 1 completed\n",
      "C\n",
      "[*********************100%***********************]  1 of 1 completed\n",
      "CCL\n",
      "[*********************100%***********************]  1 of 1 completed\n",
      "CSCO\n",
      "[*********************100%***********************]  1 of 1 completed\n",
      "CSX\n",
      "[*********************100%***********************]  1 of 1 completed\n",
      "CVS\n",
      "[*********************100%***********************]  1 of 1 completed\n",
      "F\n",
      "[*********************100%***********************]  1 of 1 completed\n",
      "FCX\n",
      "[*********************100%***********************]  1 of 1 completed\n",
      "GE\n",
      "[*********************100%***********************]  1 of 1 completed\n",
      "GILD\n",
      "[*********************100%***********************]  1 of 1 completed\n",
      "GM\n",
      "[*********************100%***********************]  1 of 1 completed\n",
      "GOOG\n",
      "[*********************100%***********************]  1 of 1 completed\n",
      "HBAN\n",
      "[*********************100%***********************]  1 of 1 completed\n",
      "INTC\n",
      "[*********************100%***********************]  1 of 1 completed\n",
      "JNJ\n",
      "[*********************100%***********************]  1 of 1 completed\n",
      "JPM\n",
      "[*********************100%***********************]  1 of 1 completed\n",
      "KO\n",
      "[*********************100%***********************]  1 of 1 completed\n",
      "META\n",
      "[*********************100%***********************]  1 of 1 completed\n",
      "MO\n",
      "[*********************100%***********************]  1 of 1 completed\n",
      "MRK\n",
      "[*********************100%***********************]  1 of 1 completed\n",
      "MS\n",
      "[*********************100%***********************]  1 of 1 completed\n",
      "MSFT\n",
      "[*********************100%***********************]  1 of 1 completed\n",
      "MU\n",
      "[*********************100%***********************]  1 of 1 completed\n",
      "NVDA\n",
      "[*********************100%***********************]  1 of 1 completed\n",
      "NKE\n",
      "[*********************100%***********************]  1 of 1 completed\n",
      "NEE\n",
      "[*********************100%***********************]  1 of 1 completed\n",
      "ORCL\n",
      "[*********************100%***********************]  1 of 1 completed\n",
      "PCG\n",
      "[*********************100%***********************]  1 of 1 completed\n",
      "PFE\n",
      "[*********************100%***********************]  1 of 1 completed\n",
      "PYPL\n",
      "[*********************100%***********************]  1 of 1 completed\n",
      "QCOM\n",
      "[*********************100%***********************]  1 of 1 completed\n",
      "SBUX\n",
      "[*********************100%***********************]  1 of 1 completed\n",
      "SCHW\n",
      "[*********************100%***********************]  1 of 1 completed\n",
      "SLB\n",
      "[*********************100%***********************]  1 of 1 completed\n",
      "TFC\n",
      "[*********************100%***********************]  1 of 1 completed\n",
      "TJX\n",
      "[*********************100%***********************]  1 of 1 completed\n",
      "TSLA\n",
      "[*********************100%***********************]  1 of 1 completed\n",
      "USB\n",
      "[*********************100%***********************]  1 of 1 completed\n",
      "V\n",
      "[*********************100%***********************]  1 of 1 completed\n",
      "VICI\n",
      "[*********************100%***********************]  1 of 1 completed\n",
      "VTRS\n",
      "[*********************100%***********************]  1 of 1 completed\n",
      "VZ\n",
      "[*********************100%***********************]  1 of 1 completed\n",
      "WFC\n",
      "[*********************100%***********************]  1 of 1 completed\n",
      "WMB\n",
      "[*********************100%***********************]  1 of 1 completed\n",
      "XOM\n"
     ]
    }
   ],
   "source": [
    "all_data = pd.DataFrame()\n",
    "for i in ticker['Ticker']:\n",
    "    temp = pd.DataFrame(yf.download(i,start=start_dt,end=end_dt)[['Open','Close']].stack()).reset_index()\n",
    "    temp.columns = ['Date','Type','Price']\n",
    "    temp['Ticker'] = i\n",
    "    all_data = pd.concat([all_data,temp])\n",
    "    print(i)"
   ]
  },
  {
   "cell_type": "code",
   "execution_count": 5,
   "id": "af7214da-4e9a-447e-8b33-eab16586d0cb",
   "metadata": {},
   "outputs": [],
   "source": [
    "all_data.to_csv('Open-Close Price Long Format.csv',index=False)"
   ]
  },
  {
   "cell_type": "code",
   "execution_count": null,
   "id": "918f5c7e-2abe-4757-aed9-23ec5bc6d191",
   "metadata": {},
   "outputs": [],
   "source": []
  }
 ],
 "metadata": {
  "kernelspec": {
   "display_name": "Python 3 (ipykernel)",
   "language": "python",
   "name": "python3"
  },
  "language_info": {
   "codemirror_mode": {
    "name": "ipython",
    "version": 3
   },
   "file_extension": ".py",
   "mimetype": "text/x-python",
   "name": "python",
   "nbconvert_exporter": "python",
   "pygments_lexer": "ipython3",
   "version": "3.9.13"
  }
 },
 "nbformat": 4,
 "nbformat_minor": 5
}
